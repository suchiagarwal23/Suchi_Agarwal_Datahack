{
  "nbformat": 4,
  "nbformat_minor": 0,
  "metadata": {
    "colab": {
      "provenance": []
    },
    "kernelspec": {
      "name": "python3",
      "display_name": "Python 3"
    },
    "language_info": {
      "name": "python"
    }
  },
  "cells": [
    {
      "cell_type": "code",
      "execution_count": 1,
      "metadata": {
        "id": "onQrTGU6FXyJ"
      },
      "outputs": [],
      "source": [
        "import pandas as pd\n",
        "\n",
        "train = pd.read_csv('training_set_features.csv')\n",
        "train_labels = pd.read_csv('training_set_labels.csv')\n",
        "test = pd.read_csv('test_set_features.csv')\n",
        "train = train.merge(train_labels, on='respondent_id')"
      ]
    },
    {
      "cell_type": "code",
      "source": [
        "from sklearn.impute import SimpleImputer\n",
        "\n",
        "X = train.drop(columns=['respondent_id', 'xyz_vaccine', 'seasonal_vaccine'])\n",
        "y_xyz = train[['xyz_vaccine']].values\n",
        "y_s = train[['seasonal_vaccine']].values\n",
        "X_test = test.drop(columns=['respondent_id'])\n",
        "\n",
        "imputer = SimpleImputer(strategy='most_frequent')\n",
        "X_i = imputer.fit_transform(X)\n",
        "X_test_i = imputer.transform(X_test)\n",
        "X_i = pd.DataFrame(X_i, columns=X.columns)\n",
        "X_test_i = pd.DataFrame(X_test_i, columns=X_test.columns)"
      ],
      "metadata": {
        "id": "AMpB2GMtGGmU"
      },
      "execution_count": 2,
      "outputs": []
    },
    {
      "cell_type": "code",
      "source": [
        "from sklearn.preprocessing import LabelEncoder\n",
        "\n",
        "headings = {}\n",
        "for column in X.columns:\n",
        "    if X[column].dtype == 'object':\n",
        "        le = LabelEncoder()\n",
        "        X_i[column] = le.fit_transform(X_i[column])\n",
        "        X_test_i[column] = le.transform(X_test_i[column])\n",
        "        headings[column] = le"
      ],
      "metadata": {
        "id": "x_8n1e71GJi6"
      },
      "execution_count": 3,
      "outputs": []
    },
    {
      "cell_type": "code",
      "source": [
        "from sklearn.preprocessing import StandardScaler\n",
        "\n",
        "scaler = StandardScaler()\n",
        "X = scaler.fit_transform(X_i)\n",
        "X_test = scaler.transform(X_test_i)"
      ],
      "metadata": {
        "id": "RyFZlrTcGVwq"
      },
      "execution_count": 4,
      "outputs": []
    },
    {
      "cell_type": "code",
      "source": [
        "from sklearn.linear_model import LogisticRegression\n",
        "from sklearn.metrics import roc_auc_score\n",
        "\n",
        "lr_xyz = LogisticRegression(max_iter=1000)\n",
        "lr_xyz.fit(X_i, y_xyz.ravel())\n",
        "\n",
        "lr_seasonal = LogisticRegression(max_iter=1000)\n",
        "lr_seasonal.fit(X_i, y_s.ravel())\n",
        "\n",
        "roc_auc_xyz_lr = roc_auc_score(y_xyz, lr_xyz.predict_proba(X_i)[:, 1],average='macro')\n",
        "roc_auc_seasonal_lr = roc_auc_score(y_s, lr_seasonal.predict_proba(X_i)[:, 1],average='macro')\n",
        "print(f\"ROC AUC in Logistic {(roc_auc_xyz_lr+roc_auc_seasonal_lr )/2}\")\n",
        "\n",
        "xyz_vaccine_lr = lr_xyz.predict_proba(X_test_i)[:, 1]\n",
        "seasonal_vaccine_lr = lr_seasonal.predict_proba(X_test_i)[:, 1]"
      ],
      "metadata": {
        "colab": {
          "base_uri": "https://localhost:8080/"
        },
        "id": "s_61KcG-GZz4",
        "outputId": "91798bab-d419-4be1-c174-249ab8871f79"
      },
      "execution_count": 5,
      "outputs": [
        {
          "output_type": "stream",
          "name": "stdout",
          "text": [
            "ROC AUC in Logistic 0.8398158761479255\n"
          ]
        }
      ]
    },
    {
      "cell_type": "code",
      "source": [
        "test_ids = test['respondent_id']\n",
        "submission = pd.DataFrame({\n",
        "    'respondent_id': test_ids,\n",
        "    'xyz_vaccine': xyz_vaccine_lr,\n",
        "    'seasonal_vaccine': seasonal_vaccine_lr\n",
        "})\n",
        "submission.to_csv('submission.csv', index=False)"
      ],
      "metadata": {
        "id": "0-lkbrrfGfy_"
      },
      "execution_count": 7,
      "outputs": []
    }
  ]
}